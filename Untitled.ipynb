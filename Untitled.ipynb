{
 "cells": [
  {
   "cell_type": "code",
   "execution_count": 1,
   "metadata": {},
   "outputs": [],
   "source": [
    "import matplotlib.pyplot as plt\n",
    "import sklearn.datasets as skdata\n",
    "import numpy as np\n",
    "\n",
    "%matplotlib inline"
   ]
  },
  {
   "cell_type": "code",
   "execution_count": 2,
   "metadata": {},
   "outputs": [
    {
     "name": "stdout",
     "output_type": "stream",
     "text": [
      "(1797, 8, 8) 1797\n"
     ]
    }
   ],
   "source": [
    "numeros = skdata.load_digits()\n",
    "target = numeros['target']\n",
    "imagenes = numeros['images']\n",
    "n_imagenes = len(target)\n",
    "print(np.shape(imagenes), n_imagenes) # Hay 1797 digitos representados en imagenes 8x8"
   ]
  },
  {
   "cell_type": "code",
   "execution_count": 4,
   "metadata": {},
   "outputs": [
    {
     "name": "stdout",
     "output_type": "stream",
     "text": [
      "(1797, 64)\n"
     ]
    }
   ],
   "source": [
    "data = imagenes.reshape((n_imagenes, -1)) # para volver a tener los datos como imagen basta hacer data.reshape((n_imagenes, 8, 8))\n",
    "print(np.shape(data))"
   ]
  },
  {
   "cell_type": "code",
   "execution_count": 5,
   "metadata": {},
   "outputs": [],
   "source": [
    "from sklearn.preprocessing import StandardScaler\n",
    "from sklearn.model_selection import train_test_split\n",
    "    "
   ]
  },
  {
   "cell_type": "code",
   "execution_count": 23,
   "metadata": {},
   "outputs": [],
   "source": [
    "# Vamos a hacer un split training test\n",
    "scaler = StandardScaler()\n",
    "x_train, x_test, y_train, y_test = train_test_split(data, target, train_size=0.5)"
   ]
  },
  {
   "cell_type": "code",
   "execution_count": 24,
   "metadata": {},
   "outputs": [],
   "source": [
    "x_train = scaler.fit_transform(x_train)\n",
    "x_test = scaler.transform(x_test)"
   ]
  },
  {
   "cell_type": "code",
   "execution_count": 25,
   "metadata": {},
   "outputs": [],
   "source": [
    "def auto(x_train_unos):\n",
    "    cov = np.cov(x_train_unos.T)\n",
    "    valores, vectores = np.linalg.eig(cov)\n",
    "    valores = np.real(valores)\n",
    "    vectores = np.real(vectores)\n",
    "    ii = np.argsort(-valores)\n",
    "    valores = valores[ii]\n",
    "    vectores = vectores[:,ii]\n",
    "    return valores,vectores\n",
    "\n",
    "def elegirunos(x_train,y_train):\n",
    "    numero = 1\n",
    "    dd = y_train==numero\n",
    "    x_train_unos=x_train[dd]\n",
    "    return x_train_unos\n",
    "\n",
    "def proyección(valores,vectores,x_train):\n",
    "    proyectados=np.dot(x_train,vectores)\n",
    "\n",
    "\n",
    "    \n",
    "\n",
    "    "
   ]
  },
  {
   "cell_type": "code",
   "execution_count": 44,
   "metadata": {},
   "outputs": [
    {
     "name": "stdout",
     "output_type": "stream",
     "text": [
      "[[ 0.00000000e+00  0.00000000e+00  0.00000000e+00 ...  0.00000000e+00\n",
      "   0.00000000e+00  0.00000000e+00]\n",
      " [-3.94296585e-18  5.01608275e-17  7.28676705e-18 ...  2.47921457e-01\n",
      "   5.44356275e-02  9.56786906e-01]\n",
      " [-1.05471851e-01  1.62415900e-02 -1.22595800e-01 ...  1.63929429e-15\n",
      "   4.05304780e-17  5.16594717e-15]\n",
      " ...\n",
      " [-6.80605674e-02 -2.67746263e-01 -1.08673596e-01 ...  7.36328247e-16\n",
      "   2.06739342e-16  3.36775459e-15]\n",
      " [-2.75758231e-01 -2.15535700e-01 -5.60124423e-03 ... -2.41792306e-15\n",
      "  -5.69441611e-16 -9.59041821e-15]\n",
      " [-4.72462178e-01 -2.65883452e-01  8.09933211e-02 ...  2.12373479e-16\n",
      "  -2.46241607e-17  4.51589850e-16]]\n"
     ]
    }
   ],
   "source": [
    "numero = 1\n",
    "dd = y_train==numero\n",
    "cov = np.cov(x_train[dd].T)\n",
    "valores, vectores = np.linalg.eig(cov)\n",
    "valores = np.real(valores)\n",
    "vectores = np.real(vectores)\n",
    "ii = np.argsort(-valores)\n",
    "valores = valores[ii]\n",
    "vectores = vectores[:,ii]\n",
    "\n",
    "print(vectores)\n",
    "\n"
   ]
  },
  {
   "cell_type": "code",
   "execution_count": 51,
   "metadata": {},
   "outputs": [],
   "source": [
    "\n",
    "from sklearn.discriminant_analysis import LinearDiscriminantAnalysis\n",
    "from sklearn.metrics import f1_score\n",
    "\n",
    "scores_train=[]\n",
    "scores_test=[]\n",
    "\n",
    "scores_train_ceros=[]\n",
    "scores_test_ceros=[]\n",
    "\n",
    "\n",
    "#proyecciones\n",
    "proyecciones=x_train@vectores\n",
    "proyecciones_test=x_test@vectores\n",
    "y_train_transf=np.where(y_train!=1,0,y_train)\n",
    "y_test_transf=np.where(y_test!=1,0,y_test)\n",
    "\n",
    "for i in range(3,40):\n",
    "    proyecciones_f=proyecciones[:,:i]\n",
    "    clf = LinearDiscriminantAnalysis()\n",
    "    clf.fit(proyecciones_f, y_train_transf)\n",
    "    proyecciones_test_f=proyecciones_test[:,:i]\n",
    "    y_predict_test=clf.predict(proyecciones_test_f)\n",
    "    y_predict_train=clf.predict(proyecciones_f)\n",
    "    scores_test.append(f1_score(y_test_transf, y_predict_test, ))\n",
    "    scores_train.append(f1_score(y_train_transf,y_predict_train))\n",
    "    scores_test_ceros.append(f1_score(y_test_transf, y_predict_test,pos_label=0))\n",
    "    scores_train_ceros.append(f1_score(y_train_transf,y_predict_train,pos_label=0))\n",
    "    \n",
    "    \n"
   ]
  },
  {
   "cell_type": "code",
   "execution_count": 46,
   "metadata": {},
   "outputs": [
    {
     "name": "stdout",
     "output_type": "stream",
     "text": [
      "[0.5488444791782963, 0.625341594175689, 0.6938689883044002, 0.724151100041511, 0.7833011583011582, 0.7770148448043185, 0.7921317841509381, 0.7900715071507152, 0.798336805519567, 0.8271177117711772, 0.863100017277652, 0.865695303490061, 0.8752381708478881, 0.8857562264520233, 0.8891962801330009, 0.8984093943027807, 0.9100197492396058, 0.9075382575903832, 0.9075382575903832, 0.9035031162690738, 0.9091794035473635, 0.9091794035473635, 0.920531978103943, 0.9180561542842578, 0.9262082653822328, 0.9338426304072776, 0.9324812030075187, 0.9293587536933257, 0.9299739546780206, 0.9350100533978597, 0.9350100533978597, 0.9268546365914787, 0.9299739546780206, 0.9299739546780206, 0.9299739546780206, 0.9299739546780206, 0.944221523783495]\n"
     ]
    }
   ],
   "source": [
    "print(scores_train)"
   ]
  },
  {
   "cell_type": "code",
   "execution_count": 52,
   "metadata": {},
   "outputs": [
    {
     "data": {
      "text/plain": [
       "<matplotlib.legend.Legend at 0x7f871e531690>"
      ]
     },
     "execution_count": 52,
     "metadata": {},
     "output_type": "execute_result"
    },
    {
     "data": {
      "image/png": "[encoded data removed]",
      "text/plain": [
       "<Figure size 1080x360 with 2 Axes>"
      ]
     },
     "metadata": {
      "needs_background": "light"
     },
     "output_type": "display_data"
    }
   ],
   "source": [
    "plt.figure(figsize=(15,5))\n",
    "plt.subplot(1,2,1)\n",
    "plt.title(\"F1 scoresde los UNOS\")\n",
    "componentes=np.arange(3, 40, 1)\n",
    "plt.scatter(componentes,scores_train,label='train')\n",
    "plt.scatter(componentes,scores_test,label='test')\n",
    "plt.legend()\n",
    "\n",
    "plt.subplot(1,2,2)\n",
    "plt.title(\"F1 scores de los NO UNOS\")\n",
    "componentes1=np.arange(3, 40, 1)\n",
    "plt.scatter(componentes1,scores_train_ceros,label='train')\n",
    "plt.scatter(componentes1,scores_test_ceros,label='test')\n",
    "plt.legend()\n",
    "\n"
   ]
  },
  {
   "cell_type": "code",
   "execution_count": null,
   "metadata": {},
   "outputs": [],
   "source": []
  },
  {
   "cell_type": "code",
   "execution_count": null,
   "metadata": {},
   "outputs": [],
   "source": [
    "for "
   ]
  }
 ],
 "metadata": {
  "kernelspec": {
   "display_name": "Python 3",
   "language": "python",
   "name": "python3"
  },
  "language_info": {
   "codemirror_mode": {
    "name": "ipython",
    "version": 3
   },
   "file_extension": ".py",
   "mimetype": "text/x-python",
   "name": "python",
   "nbconvert_exporter": "python",
   "pygments_lexer": "ipython3",
   "version": "3.7.6"
  }
 },
 "nbformat": 4,
 "nbformat_minor": 4
}
